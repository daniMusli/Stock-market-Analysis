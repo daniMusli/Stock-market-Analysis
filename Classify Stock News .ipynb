{
 "cells": [
  {
   "cell_type": "markdown",
   "metadata": {},
   "source": [
    "# Classify Stock News \n",
    "\n",
    "classify the news as good,neutral,bad"
   ]
  },
  {
   "cell_type": "code",
   "execution_count": 622,
   "metadata": {},
   "outputs": [
    {
     "name": "stderr",
     "output_type": "stream",
     "text": [
      "[nltk_data] Downloading package vader_lexicon to\n",
      "[nltk_data]     C:\\Users\\abdul\\AppData\\Roaming\\nltk_data...\n",
      "[nltk_data]   Package vader_lexicon is already up-to-date!\n"
     ]
    }
   ],
   "source": [
    "# Import libraries\n",
    "from urllib.request import urlopen, Request\n",
    "from bs4 import BeautifulSoup\n",
    "import os\n",
    "import pandas as pd\n",
    "import matplotlib.pyplot as plt\n",
    "import warnings\n",
    "%matplotlib inline\n",
    "# NLTK VADER for sentiment analysis\n",
    "import nltk\n",
    "from nltk.sentiment.vader import SentimentIntensityAnalyzer\n",
    "warnings.filterwarnings(\"ignore\")\n",
    "# download lexicon for analyzer\n",
    "nltk.downloader.download('vader_lexicon')\n",
    "# pass the processed data to the sentiment intensity analyzer \n",
    "vader = SentimentIntensityAnalyzer() # initiate the analyzer\n"
   ]
  },
  {
   "cell_type": "code",
   "execution_count": 623,
   "metadata": {},
   "outputs": [],
   "source": [
    "website = 'https://finviz.com/quote.ashx?t=' # link to news website\n",
    "\n",
    "bio_news = {} # dictionary to hold the bio tickers news \n",
    "bio_tickers = ['SRNE','AZN','PFE'] # list of tickers to analyze\n",
    "#tech_tickers = \n",
    "#EV_tickers = \n",
    "#Energy_tickers = \n",
    "for ticker in bio_tickers:\n",
    "    url = website + ticker\n",
    "    req = Request(url=url,headers={'user-agent': 'my-app/0.0.1'}) \n",
    "    response = urlopen(req)    \n",
    "    # save the content of the html webpage\n",
    "    html = BeautifulSoup(response)\n",
    "    # now we need to find the table with the id=news-table from the html page inside the table \n",
    "    news_table = html.find(id='news-table')\n",
    "    # save the table in the news dictionary \n",
    "    bio_news[ticker] = news_table\n",
    "#bio_news  \n",
    "# analyze the structure of news variable we need to identify each row and coloumn and \n",
    "# then get the information inside each <a> element which represents the text of the news.\n",
    "# and <td> elements which represents the time and the date of the news. \n",
    "#srne = news['SRNE']\n",
    "# Get all the table rows tagged in HTML with <tr> into 'amzn_tr'\n",
    "#srne_tr = srne.findAll('tr')\n",
    "\n",
    "#for i, table_row in enumerate(srne_tr):\n",
    "    # Read the text of the element 'a' into 'link_text'\n",
    "    #a_text = table_row.a.text\n",
    "    # Read the text of the element 'td' into 'data_text'\n",
    "    #td_text = table_row.td.text\n",
    "    #print(a_text) # the text of the news\n",
    "    #print(td_text) # time and date\n",
    "    #if i == 3:\n",
    "        #break \n",
    "        \n",
    "# data preprocessing. \n",
    "Processed_bio_news = []\n",
    "for file_name, news_table in bio_news.items():\n",
    "    # Iterate through all <tr>\n",
    "    for x in news_table.findAll('tr'):\n",
    "        # read the text from each tr tag into text\n",
    "        # get text from a only\n",
    "        text = x.a.get_text() \n",
    "        # splite text in the td tag into a list \n",
    "        date_scrape = x.td.text.split()\n",
    "        # cuz some of the columns only consists of time \n",
    "        if len(date_scrape) == 1:\n",
    "            time = date_scrape[0]           \n",
    "        # date and time correct format  \n",
    "        else:\n",
    "            date = date_scrape[0]\n",
    "            time = date_scrape[1]\n",
    "        # Extract the ticker from the file name \n",
    "        ticker = file_name.split('_')[0]       \n",
    "        # Append ticker, date, time and headline \n",
    "        Processed_bio_news.append([ticker, date, time, text])        \n",
    "#Processed_bio_news   "
   ]
  },
  {
   "cell_type": "code",
   "execution_count": 624,
   "metadata": {},
   "outputs": [],
   "source": [
    "# New words and values to help the NLP analyzer catch news about stock better\n",
    "bio_new_words = {\n",
    "'lifting':5,\n",
    "'contract':5,\n",
    "'treatment':5,\n",
    "'darpa':5,\n",
    "'receives':5,\n",
    "'higher':5,\n",
    "'competition':-5,\n",
    "'federal':5,\n",
    "'jumping':5,\n",
    "'efficient':5,\n",
    "'shorted':-5,\n",
    "'away':-5,\n",
    "'fda':5,\n",
    "'nod':5,\n",
    "'spike':5,\n",
    "'releases':5,\n",
    "'preclinical':5,\n",
    "'sti-1499':5,\n",
    "'sti-2020':5,\n",
    "'identifies':5,\n",
    "'running':-5,\n",
    "'showcase':5,\n",
    "'jumped':5,\n",
    "'pipeline':5,\n",
    "'adds':5,\n",
    "'risky':-5,\n",
    "'riskly':-5,   \n",
    "'spike':5, \n",
    "'covi=drops':5, \n",
    "'plummeted':-5,\n",
    "'surging':5,\n",
    "'identifies':5,\n",
    "'ultra-risky':-5,\n",
    "'files':5,\n",
    "'eua':5,\n",
    "'recover':5,\n",
    "'Stumble':-5,\n",
    "'recovers':5,\n",
    "'restrictions':-2,\n",
    "'beat':5,    \n",
    "'beats':5         \n",
    " }\n",
    "# Update the lexicon\n",
    "vader.lexicon.update(bio_new_words)\n",
    "columns = ['ticker', 'date', 'time', 'headline']\n",
    "\n",
    "# Convert the parsed_news list into a DataFrame called 'parsed_and_scored_news'\n",
    "bio_news_df = pd.DataFrame(Processed_bio_news, columns=columns)\n",
    "\n",
    "# get the score for each news\n",
    "bio_scores = bio_news_df['headline'].apply(vader.polarity_scores).tolist()\n",
    "bio_scores_df = pd.DataFrame(bio_scores)\n",
    "# Join the DataFrames\n",
    "bio_news_df = bio_news_df.join(bio_scores_df, rsuffix='_right')\n",
    "# Convert the date column from string to datetime\n",
    "bio_news_df['date'] = pd.to_datetime(bio_news_df.date).dt.date\n",
    "#bio_news_df\n",
    "# save the data to csv file \n",
    "bio_news_df.to_csv(\"bio_news_analysis.csv\", encoding='utf-8', index=False)\n"
   ]
  },
  {
   "cell_type": "code",
   "execution_count": 625,
   "metadata": {
    "scrolled": true
   },
   "outputs": [
    {
     "data": {
      "image/png": "[encoded data removed]",
      "text/plain": [
       "<Figure size 720x432 with 1 Axes>"
      ]
     },
     "metadata": {
      "needs_background": "light"
     },
     "output_type": "display_data"
    }
   ],
   "source": [
    "#plot SRNE\n",
    "plt.rcParams['figure.figsize'] = [10, 6]\n",
    "SRNE = bio_news_df.loc[bio_news_df['ticker'] == \"SRNE\"]\n",
    "bio_mean_scores = SRNE.groupby(['ticker','date']).mean()\n",
    "bio_mean_scores = bio_mean_scores.unstack()\n",
    "bio_mean_scores = bio_mean_scores.xs('compound', axis=\"columns\").transpose()\n",
    "# Plot \n",
    "bio_mean_scores.plot(kind = 'bar')\n",
    "plt.grid()"
   ]
  },
  {
   "cell_type": "code",
   "execution_count": 626,
   "metadata": {},
   "outputs": [
    {
     "data": {
      "image/png": "[encoded data removed]",
      "text/plain": [
       "<Figure size 720x432 with 1 Axes>"
      ]
     },
     "metadata": {
      "needs_background": "light"
     },
     "output_type": "display_data"
    }
   ],
   "source": [
    "#plot AZN\n",
    "plt.rcParams['figure.figsize'] = [10, 6]\n",
    "AZN = bio_news_df.loc[bio_news_df['ticker'] == \"AZN\"]\n",
    "bio_mean_scores1 = PFE.groupby(['ticker','date']).mean()\n",
    "bio_mean_scores1 = bio_mean_scores1.unstack()\n",
    "bio_mean_scores1 = bio_mean_scores1.xs('compound', axis=\"columns\").transpose()\n",
    "# Plot \n",
    "bio_mean_scores1.plot(kind = 'bar')\n",
    "plt.grid()"
   ]
  },
  {
   "cell_type": "code",
   "execution_count": 627,
   "metadata": {},
   "outputs": [
    {
     "data": {
      "image/png": "[encoded data removed]",
      "text/plain": [
       "<Figure size 720x432 with 1 Axes>"
      ]
     },
     "metadata": {
      "needs_background": "light"
     },
     "output_type": "display_data"
    }
   ],
   "source": [
    "#plot PFE\n",
    "plt.rcParams['figure.figsize'] = [10, 6]\n",
    "PFE = bio_news_df.loc[bio_news_df['ticker'] == \"PFE\"]\n",
    "bio_mean_scores2 = PFE.groupby(['ticker','date']).mean()\n",
    "bio_mean_scores2 = bio_mean_scores2.unstack()\n",
    "bio_mean_scores2 = bio_mean_scores2.xs('compound', axis=\"columns\").transpose()\n",
    "# Plot \n",
    "bio_mean_scores2.plot(kind = 'bar')\n",
    "plt.grid()"
   ]
  },
  {
   "cell_type": "code",
   "execution_count": 628,
   "metadata": {},
   "outputs": [],
   "source": [
    "tech_tickers = ['AAPL','NVDA','MSFT']\n",
    "tech_news={}\n",
    "\n",
    "for ticker in tech_tickers:\n",
    "    url = website + ticker\n",
    "    req = Request(url=url,headers={'user-agent': 'my-app/0.0.1'}) \n",
    "    response = urlopen(req)    \n",
    "    # save the content of the html webpage\n",
    "    html = BeautifulSoup(response)\n",
    "    # now we need to find the table with the id=news-table from the html page inside the table \n",
    "    news_table = html.find(id='news-table')\n",
    "    # save the table in the news dictionary \n",
    "    tech_news[ticker] = news_table\n",
    "\n",
    "        \n",
    "# data preprocessing. \n",
    "Processed_tech_news = []\n",
    "for file_name, news_table in tech_news.items():\n",
    "    # Iterate through all <tr>\n",
    "    for x in news_table.findAll('tr'):\n",
    "        # read the text from each tr tag into text\n",
    "        # get text from a only\n",
    "        text = x.a.get_text() \n",
    "        # splite text in the td tag into a list \n",
    "        date_scrape = x.td.text.split()\n",
    "        # cuz some of the columns only consists of time \n",
    "        if len(date_scrape) == 1:\n",
    "            time = date_scrape[0]           \n",
    "        # date and time correct format  \n",
    "        else:\n",
    "            date = date_scrape[0]\n",
    "            time = date_scrape[1]\n",
    "        # Extract the ticker from the file name \n",
    "        ticker = file_name.split('_')[0]       \n",
    "        # Append ticker, date, time and headline \n",
    "        Processed_tech_news.append([ticker, date, time, text])        \n",
    "#Processed_tech_news   "
   ]
  },
  {
   "cell_type": "code",
   "execution_count": 629,
   "metadata": {},
   "outputs": [],
   "source": [
    "# Convert the parsed_news list into a DataFrame called 'parsed_and_scored_news'\n",
    "tech_news_df = pd.DataFrame(Processed_tech_news, columns=columns)\n",
    "\n",
    "# get the score for each news\n",
    "tech_scores = tech_news_df['headline'].apply(vader.polarity_scores).tolist()\n",
    "tech_scores_df = pd.DataFrame(tech_scores)\n",
    "# Join the DataFrames\n",
    "tech_news_df = tech_news_df.join(tech_scores_df, rsuffix='_right')\n",
    "# Convert the date column from string to datetime\n",
    "tech_news_df['date'] = pd.to_datetime(tech_news_df.date).dt.date\n",
    "#tech_news_df\n",
    "# save the data to csv file \n",
    "tech_news_df.to_csv(\"tech_news_analysis.csv\", encoding='utf-8', index=False)\n"
   ]
  },
  {
   "cell_type": "code",
   "execution_count": 630,
   "metadata": {},
   "outputs": [
    {
     "data": {
      "image/png": "[encoded data removed]",
      "text/plain": [
       "<Figure size 720x432 with 1 Axes>"
      ]
     },
     "metadata": {
      "needs_background": "light"
     },
     "output_type": "display_data"
    }
   ],
   "source": [
    "#plot AAPL\n",
    "plt.rcParams['figure.figsize'] = [10, 6]\n",
    "AAPL = tech_news_df.loc[tech_news_df['ticker'] == \"AAPL\"]\n",
    "tech_mean_scores = AAPL.groupby(['ticker','date']).mean()\n",
    "tech_mean_scores = tech_mean_scores.unstack()\n",
    "tech_mean_scores = tech_mean_scores.xs('compound', axis=\"columns\").transpose()\n",
    "# Plot \n",
    "tech_mean_scores.plot(kind = 'bar')\n",
    "plt.grid()"
   ]
  },
  {
   "cell_type": "code",
   "execution_count": 631,
   "metadata": {},
   "outputs": [
    {
     "data": {
      "image/png": "[encoded data removed]",
      "text/plain": [
       "<Figure size 720x432 with 1 Axes>"
      ]
     },
     "metadata": {
      "needs_background": "light"
     },
     "output_type": "display_data"
    }
   ],
   "source": [
    "#plot NVDA\n",
    "plt.rcParams['figure.figsize'] = [10, 6]\n",
    "NVDA = tech_news_df.loc[tech_news_df['ticker'] == \"NVDA\"]\n",
    "tech_mean_scores1 = NVDA.groupby(['ticker','date']).mean()\n",
    "tech_mean_scores1 = tech_mean_scores1.unstack()\n",
    "tech_mean_scores1 = tech_mean_scores1.xs('compound', axis=\"columns\").transpose()\n",
    "# Plot \n",
    "tech_mean_scores1.plot(kind = 'bar')\n",
    "plt.grid()"
   ]
  },
  {
   "cell_type": "code",
   "execution_count": 632,
   "metadata": {},
   "outputs": [
    {
     "data": {
      "image/png": "[encoded data removed]",
      "text/plain": [
       "<Figure size 720x432 with 1 Axes>"
      ]
     },
     "metadata": {
      "needs_background": "light"
     },
     "output_type": "display_data"
    }
   ],
   "source": [
    "#plot MSFT\n",
    "plt.rcParams['figure.figsize'] = [10, 6]\n",
    "MSFT = tech_news_df.loc[tech_news_df['ticker'] == \"MSFT\"]\n",
    "tech_mean_scores2 = MSFT.groupby(['ticker','date']).mean()\n",
    "tech_mean_scores2 = tech_mean_scores2.unstack()\n",
    "tech_mean_scores2 = tech_mean_scores2.xs('compound', axis=\"columns\").transpose()\n",
    "# Plot \n",
    "tech_mean_scores2.plot(kind = 'bar')\n",
    "plt.grid()"
   ]
  },
  {
   "cell_type": "code",
   "execution_count": 633,
   "metadata": {},
   "outputs": [],
   "source": [
    "ev_tickers = ['TSLA','NIO','PLTR']\n",
    "ev_news={}\n",
    "\n",
    "for ticker in ev_tickers:\n",
    "    url = website + ticker\n",
    "    req = Request(url=url,headers={'user-agent': 'my-app/0.0.1'}) \n",
    "    response = urlopen(req)    \n",
    "    # save the content of the html webpage\n",
    "    html = BeautifulSoup(response)\n",
    "    # now we need to find the table with the id=news-table from the html page inside the table \n",
    "    news_table = html.find(id='news-table')\n",
    "    # save the table in the news dictionary \n",
    "    ev_news[ticker] = news_table\n",
    "\n",
    "        \n",
    "# data preprocessing. \n",
    "Processed_ev_news = []\n",
    "for file_name, news_table in ev_news.items():\n",
    "    # Iterate through all <tr>\n",
    "    for x in news_table.findAll('tr'):\n",
    "        # read the text from each tr tag into text\n",
    "        # get text from a only\n",
    "        text = x.a.get_text() \n",
    "        # splite text in the td tag into a list \n",
    "        date_scrape = x.td.text.split()\n",
    "        # cuz some of the columns only consists of time \n",
    "        if len(date_scrape) == 1:\n",
    "            time = date_scrape[0]           \n",
    "        # date and time correct format  \n",
    "        else:\n",
    "            date = date_scrape[0]\n",
    "            time = date_scrape[1]\n",
    "        # Extract the ticker from the file name \n",
    "        ticker = file_name.split('_')[0]       \n",
    "        # Append ticker, date, time and headline \n",
    "        Processed_ev_news.append([ticker, date, time, text])        \n",
    "#Processed_ev_news   "
   ]
  },
  {
   "cell_type": "code",
   "execution_count": 634,
   "metadata": {},
   "outputs": [],
   "source": [
    "# Convert the parsed_news list into a DataFrame called 'parsed_and_scored_news'\n",
    "ev_news_df = pd.DataFrame(Processed_ev_news, columns=columns)\n",
    "\n",
    "# get the score for each news\n",
    "ev_scores = ev_news_df['headline'].apply(vader.polarity_scores).tolist()\n",
    "ev_scores_df = pd.DataFrame(ev_scores)\n",
    "# Join the DataFrames\n",
    "ev_news_df = ev_news_df.join(ev_scores_df, rsuffix='_right')\n",
    "# Convert the date column from string to datetime\n",
    "ev_news_df['date'] = pd.to_datetime(ev_news_df.date).dt.date\n",
    "#ev_news_df\n",
    "# save the data to csv file \n",
    "ev_news_df.to_csv(\"ev_news_analysis.csv\", encoding='utf-8', index=False)"
   ]
  },
  {
   "cell_type": "code",
   "execution_count": 635,
   "metadata": {},
   "outputs": [
    {
     "data": {
      "image/png": "[encoded data removed]",
      "text/plain": [
       "<Figure size 720x432 with 1 Axes>"
      ]
     },
     "metadata": {
      "needs_background": "light"
     },
     "output_type": "display_data"
    }
   ],
   "source": [
    "#plot TSLA\n",
    "plt.rcParams['figure.figsize'] = [10, 6]\n",
    "TSLA = ev_news_df.loc[ev_news_df['ticker'] == \"TSLA\"]\n",
    "ev_mean_scores = TSLA.groupby(['ticker','date']).mean()\n",
    "ev_mean_scores = ev_mean_scores.unstack()\n",
    "ev_mean_scores = ev_mean_scores.xs('compound', axis=\"columns\").transpose()\n",
    "# Plot \n",
    "ev_mean_scores.plot(kind = 'bar')\n",
    "plt.grid()"
   ]
  },
  {
   "cell_type": "code",
   "execution_count": 636,
   "metadata": {},
   "outputs": [
    {
     "data": {
      "image/png": "[encoded data removed]",
      "text/plain": [
       "<Figure size 720x432 with 1 Axes>"
      ]
     },
     "metadata": {
      "needs_background": "light"
     },
     "output_type": "display_data"
    }
   ],
   "source": [
    "#plot NIO\n",
    "plt.rcParams['figure.figsize'] = [10, 6]\n",
    "NIO = ev_news_df.loc[ev_news_df['ticker'] == \"NIO\"]\n",
    "ev_mean_scores1 = NIO.groupby(['ticker','date']).mean()\n",
    "ev_mean_scores1 = ev_mean_scores1.unstack()\n",
    "ev_mean_scores1 = ev_mean_scores1.xs('compound', axis=\"columns\").transpose()\n",
    "# Plot \n",
    "ev_mean_scores1.plot(kind = 'bar')\n",
    "plt.grid()"
   ]
  },
  {
   "cell_type": "code",
   "execution_count": 637,
   "metadata": {},
   "outputs": [
    {
     "data": {
      "image/png": "[encoded data removed]",
      "text/plain": [
       "<Figure size 720x432 with 1 Axes>"
      ]
     },
     "metadata": {
      "needs_background": "light"
     },
     "output_type": "display_data"
    }
   ],
   "source": [
    "#plot PLTR\n",
    "plt.rcParams['figure.figsize'] = [10, 6]\n",
    "PLTR = ev_news_df.loc[ev_news_df['ticker'] == \"PLTR\"]\n",
    "ev_mean_scores2 = PLTR.groupby(['ticker','date']).mean()\n",
    "ev_mean_scores2 = ev_mean_scores2.unstack()\n",
    "ev_mean_scores2 = ev_mean_scores2.xs('compound', axis=\"columns\").transpose()\n",
    "# Plot \n",
    "ev_mean_scores2.plot(kind = 'bar')\n",
    "plt.grid()"
   ]
  },
  {
   "cell_type": "code",
   "execution_count": 638,
   "metadata": {},
   "outputs": [],
   "source": [
    "energy_tickers = ['FCEL','WWR','GEVO']\n",
    "energy_news={}\n",
    "\n",
    "for ticker in energy_tickers:\n",
    "    url = website + ticker\n",
    "    req = Request(url=url,headers={'user-agent': 'my-app/0.0.1'}) \n",
    "    response = urlopen(req)    \n",
    "    # save the content of the html webpage\n",
    "    html = BeautifulSoup(response)\n",
    "    # now we need to find the table with the id=news-table from the html page inside the table \n",
    "    news_table = html.find(id='news-table')\n",
    "    # save the table in the news dictionary \n",
    "    energy_news[ticker] = news_table\n",
    "\n",
    "        \n",
    "# data preprocessing. \n",
    "Processed_energy_news = []\n",
    "for file_name, news_table in energy_news.items():\n",
    "    # Iterate through all <tr>\n",
    "    for x in news_table.findAll('tr'):\n",
    "        # read the text from each tr tag into text\n",
    "        # get text from a only\n",
    "        text = x.a.get_text() \n",
    "        # splite text in the td tag into a list \n",
    "        date_scrape = x.td.text.split()\n",
    "        # cuz some of the columns only consists of time \n",
    "        if len(date_scrape) == 1:\n",
    "            time = date_scrape[0]           \n",
    "        # date and time correct format  \n",
    "        else:\n",
    "            date = date_scrape[0]\n",
    "            time = date_scrape[1]\n",
    "        # Extract the ticker from the file name \n",
    "        ticker = file_name.split('_')[0]       \n",
    "        # Append ticker, date, time and headline \n",
    "        Processed_energy_news.append([ticker, date, time, text])        \n",
    "#Processed_energy_news   "
   ]
  },
  {
   "cell_type": "code",
   "execution_count": 639,
   "metadata": {},
   "outputs": [],
   "source": [
    "# Convert the parsed_news list into a DataFrame called 'parsed_and_scored_news'\n",
    "energy_news_df = pd.DataFrame(Processed_energy_news, columns=columns)\n",
    "\n",
    "# get the score for each news\n",
    "energy_scores = energy_news_df['headline'].apply(vader.polarity_scores).tolist()\n",
    "energy_scores_df = pd.DataFrame(energy_scores)\n",
    "# Join the DataFrames\n",
    "energy_news_df = energy_news_df.join(energy_scores_df, rsuffix='_right')\n",
    "# Convert the date column from string to datetime\n",
    "energy_news_df['date'] = pd.to_datetime(energy_news_df.date).dt.date\n",
    "#ev_news_df\n",
    "# save the data to csv file \n",
    "energy_news_df.to_csv(\"ev_news_analysis.csv\", encoding='utf-8', index=False)"
   ]
  },
  {
   "cell_type": "code",
   "execution_count": 640,
   "metadata": {},
   "outputs": [
    {
     "data": {
      "image/png": "[encoded data removed]",
      "text/plain": [
       "<Figure size 720x432 with 1 Axes>"
      ]
     },
     "metadata": {
      "needs_background": "light"
     },
     "output_type": "display_data"
    }
   ],
   "source": [
    "#plot FCEL\n",
    "plt.rcParams['figure.figsize'] = [10, 6]\n",
    "FCEL = energy_news_df.loc[energy_news_df['ticker'] == \"FCEL\"]\n",
    "energy_mean_scores = FCEL.groupby(['ticker','date']).mean()\n",
    "energy_mean_scores = energy_mean_scores.unstack()\n",
    "energy_mean_scores = energy_mean_scores.xs('compound', axis=\"columns\").transpose()\n",
    "# Plot \n",
    "energy_mean_scores.plot(kind = 'bar')\n",
    "plt.grid()"
   ]
  },
  {
   "cell_type": "code",
   "execution_count": 641,
   "metadata": {},
   "outputs": [
    {
     "data": {
      "image/png": "[encoded data removed]",
      "text/plain": [
       "<Figure size 720x432 with 1 Axes>"
      ]
     },
     "metadata": {
      "needs_background": "light"
     },
     "output_type": "display_data"
    }
   ],
   "source": [
    "#plot WWR\n",
    "plt.rcParams['figure.figsize'] = [10, 6]\n",
    "WWR = energy_news_df.loc[energy_news_df['ticker'] == \"WWR\"]\n",
    "energy_mean_scores1 = FCEL.groupby(['ticker','date']).mean()\n",
    "energy_mean_scores1 = energy_mean_scores1.unstack()\n",
    "energy_mean_scores1 = energy_mean_scores1.xs('compound', axis=\"columns\").transpose()\n",
    "# Plot \n",
    "energy_mean_scores1.plot(kind = 'bar')\n",
    "plt.grid()"
   ]
  },
  {
   "cell_type": "code",
   "execution_count": 642,
   "metadata": {},
   "outputs": [
    {
     "data": {
      "image/png": "[encoded data removed]",
      "text/plain": [
       "<Figure size 720x432 with 1 Axes>"
      ]
     },
     "metadata": {
      "needs_background": "light"
     },
     "output_type": "display_data"
    }
   ],
   "source": [
    "#plot GEVO\n",
    "plt.rcParams['figure.figsize'] = [10, 6]\n",
    "GEVO = energy_news_df.loc[energy_news_df['ticker'] == \"GEVO\"]\n",
    "energy_mean_scores2 = GEVO.groupby(['ticker','date']).mean()\n",
    "energy_mean_scores2 = energy_mean_scores2.unstack()\n",
    "energy_mean_scores2 = energy_mean_scores2.xs('compound', axis=\"columns\").transpose()\n",
    "# Plot \n",
    "energy_mean_scores2.plot(kind = 'bar')\n",
    "plt.grid()"
   ]
  },
  {
   "cell_type": "code",
   "execution_count": 643,
   "metadata": {},
   "outputs": [],
   "source": [
    " def append_holiday_values(ticker):\n",
    "    ticker_processed = ticker[['date', 'compound']]\n",
    "    ticker_processed.columns = ['date', 'news_value']\n",
    "    ticker_processed['WEEKDAY'] = pd.to_datetime(ticker_processed['date']).dt.dayofweek  # monday = 0, sunday = 6\n",
    "    for row in ticker_processed.itertuples(index=True, name='Pandas'):  \n",
    "        if  row.WEEKDAY == 5 or row.WEEKDAY == 6 :# get saturdays and sundays \n",
    "            if row.Index==99: # end of dataframe\n",
    "                pass\n",
    "            else:\n",
    "                if ticker_processed.iloc[row.Index, ticker_processed.columns.get_loc('news_value')]==0:\n",
    "                    pass\n",
    "                else:\n",
    "                    ticker_processed.iloc[row.Index+1,ticker_processed.columns.get_loc('news_value')]=\\\n",
    "                    ticker_processed.iloc[row.Index+1,ticker_processed.columns.get_loc('news_value')]+\\\n",
    "                    ticker_processed.iloc[row.Index,ticker_processed.columns.get_loc('news_value')]\n",
    "                    ticker_processed.iloc[row.Index,ticker_processed.columns.get_loc('news_value')]=0  \n",
    "    ticker_processed = ticker_processed[ticker_processed.WEEKDAY != 6]\n",
    "    ticker_processed = ticker_processed[ticker_processed.WEEKDAY != 5]             \n",
    "    return ticker_processed\n"
   ]
  },
  {
   "cell_type": "code",
   "execution_count": 644,
   "metadata": {},
   "outputs": [],
   "source": [
    "# reindex all tickers\n",
    "SRNE = SRNE.reset_index(drop=True)\n",
    "AZN = AZN.reset_index(drop=True)\n",
    "PFE = PFE.reset_index(drop=True)\n",
    "AAPL = AAPL.reset_index(drop=True)\n",
    "NVDA = NVDA.reset_index(drop=True)\n",
    "MSFT = MSFT.reset_index(drop=True)\n",
    "TSLA = TSLA.reset_index(drop=True)\n",
    "NIO = NIO.reset_index(drop=True)\n",
    "PLTR = PLTR.reset_index(drop=True)\n",
    "FCEL = FCEL.reset_index(drop=True)\n",
    "WWR = WWR.reset_index(drop=True)\n",
    "GEVO = GEVO.reset_index(drop=True)"
   ]
  },
  {
   "cell_type": "code",
   "execution_count": 665,
   "metadata": {},
   "outputs": [],
   "source": [
    "# remove weekends and append their values to next working day \n",
    "SRNE_processed = append_holiday_values(SRNE)\n",
    "# make sure no weekends remain if the final news coming happen to be on weekend \n",
    "SRNE_processed = SRNE_processed[SRNE_processed.WEEKDAY != 6]\n",
    "SRNE_processed = SRNE_processed[SRNE_processed.WEEKDAY != 5]\n",
    "\n",
    "# remove weekends and append their values to next working day \n",
    "AZN_processed = append_holiday_values(AZN)\n",
    "# make sure no weekends remain if the final news coming happen to be on weekend \n",
    "AZN_processed = AZN_processed[AZN_processed.WEEKDAY != 6]\n",
    "AZN_processed = AZN_processed[AZN_processed.WEEKDAY != 5]\n",
    "\n",
    "# remove weekends and append their values to next working day \n",
    "PFE_processed = append_holiday_values(PFE)\n",
    "# make sure no weekends remain if the final news coming happen to be on weekend \n",
    "PFE_processed = PFE_processed[PFE_processed.WEEKDAY != 6]\n",
    "PFE_processed = PFE_processed[PFE_processed.WEEKDAY != 5]\n",
    "\n",
    "# remove weekends and append their values to next working day \n",
    "AAPL_processed = append_holiday_values(AAPL)\n",
    "# make sure no weekends remain if the final news coming happen to be on weekend \n",
    "AAPL_processed = AAPL_processed[AAPL_processed.WEEKDAY != 6]\n",
    "AAPL_processed = AAPL_processed[AAPL_processed.WEEKDAY != 5]\n",
    "\n",
    "# remove weekends and append their values to next working day \n",
    "NVDA_processed = append_holiday_values(NVDA)\n",
    "# make sure no weekends remain if the final news coming happen to be on weekend \n",
    "NVDA_processed = NVDA_processed[NVDA_processed.WEEKDAY != 6]\n",
    "NVDA_processed = NVDA_processed[NVDA_processed.WEEKDAY != 5]\n",
    "\n",
    "# remove weekends and append their values to next working day \n",
    "MSFT_processed = append_holiday_values(MSFT)\n",
    "# make sure no weekends remain if the final news coming happen to be on weekend \n",
    "MSFT_processed = MSFT_processed[MSFT_processed.WEEKDAY != 6]\n",
    "MSFT_processed = MSFT_processed[MSFT_processed.WEEKDAY != 5]\n",
    "\n",
    "# remove weekends and append their values to next working day \n",
    "TSLA_processed = append_holiday_values(TSLA)\n",
    "# make sure no weekends remain if the final news coming happen to be on weekend \n",
    "TSLA_processed = TSLA_processed[TSLA_processed.WEEKDAY != 6]\n",
    "TSLA_processed = TSLA_processed[TSLA_processed.WEEKDAY != 5]\n",
    "\n",
    "# remove weekends and append their values to next working day \n",
    "NIO_processed = append_holiday_values(NIO)\n",
    "# make sure no weekends remain if the final news coming happen to be on weekend \n",
    "NIO_processed = NIO_processed[NIO_processed.WEEKDAY != 6]\n",
    "NIO_processed = NIO_processed[NIO_processed.WEEKDAY != 5]\n",
    "\n",
    "# remove weekends and append their values to next working day \n",
    "PLTR_processed = append_holiday_values(PLTR)\n",
    "# make sure no weekends remain if the final news coming happen to be on weekend \n",
    "PLTR_processed = PLTR_processed[PLTR_processed.WEEKDAY != 6]\n",
    "PLTR_processed = PLTR_processed[PLTR_processed.WEEKDAY != 5]\n",
    "\n",
    "# remove weekends and append their values to next working day \n",
    "FCEL_processed = append_holiday_values(FCEL)\n",
    "# make sure no weekends remain if the final news coming happen to be on weekend \n",
    "FCEL_processed = FCEL_processed[FCEL_processed.WEEKDAY != 6]\n",
    "FCEL_processed = FCEL_processed[FCEL_processed.WEEKDAY != 5]\n",
    "\n",
    "# remove weekends and append their values to next working day \n",
    "WWR_processed = append_holiday_values(WWR)\n",
    "# make sure no weekends remain if the final news coming happen to be on weekend \n",
    "WWR_processed = WWR_processed[WWR_processed.WEEKDAY != 6]\n",
    "WWR_processed = WWR_processed[WWR_processed.WEEKDAY != 5]\n",
    "\n",
    "# remove weekends and append their values to next working day \n",
    "GEVO_processed = append_holiday_values(GEVO)\n",
    "# make sure no weekends remain if the final news coming happen to be on weekend \n",
    "GEVO_processed = GEVO_processed[GEVO_processed.WEEKDAY != 6]\n",
    "GEVO_processed = GEVO_processed[GEVO_processed.WEEKDAY != 5]"
   ]
  },
  {
   "cell_type": "code",
   "execution_count": 686,
   "metadata": {},
   "outputs": [
    {
     "data": {
      "text/html": [
       "<div>\n",
       "<style scoped>\n",
       "    .dataframe tbody tr th:only-of-type {\n",
       "        vertical-align: middle;\n",
       "    }\n",
       "\n",
       "    .dataframe tbody tr th {\n",
       "        vertical-align: top;\n",
       "    }\n",
       "\n",
       "    .dataframe thead th {\n",
       "        text-align: right;\n",
       "    }\n",
       "</style>\n",
       "<table border=\"1\" class=\"dataframe\">\n",
       "  <thead>\n",
       "    <tr style=\"text-align: right;\">\n",
       "      <th></th>\n",
       "      <th>date</th>\n",
       "      <th>news_value</th>\n",
       "      <th>WEEKDAY</th>\n",
       "    </tr>\n",
       "  </thead>\n",
       "  <tbody>\n",
       "    <tr>\n",
       "      <td>0</td>\n",
       "      <td>2020-12-02</td>\n",
       "      <td>-0.7906</td>\n",
       "      <td>2</td>\n",
       "    </tr>\n",
       "    <tr>\n",
       "      <td>2</td>\n",
       "      <td>2020-11-27</td>\n",
       "      <td>0.7906</td>\n",
       "      <td>4</td>\n",
       "    </tr>\n",
       "    <tr>\n",
       "      <td>3</td>\n",
       "      <td>2020-11-27</td>\n",
       "      <td>0.9818</td>\n",
       "      <td>4</td>\n",
       "    </tr>\n",
       "    <tr>\n",
       "      <td>4</td>\n",
       "      <td>2020-11-27</td>\n",
       "      <td>0.9406</td>\n",
       "      <td>4</td>\n",
       "    </tr>\n",
       "    <tr>\n",
       "      <td>5</td>\n",
       "      <td>2020-11-27</td>\n",
       "      <td>0.7906</td>\n",
       "      <td>4</td>\n",
       "    </tr>\n",
       "    <tr>\n",
       "      <td>...</td>\n",
       "      <td>...</td>\n",
       "      <td>...</td>\n",
       "      <td>...</td>\n",
       "    </tr>\n",
       "    <tr>\n",
       "      <td>95</td>\n",
       "      <td>2020-09-09</td>\n",
       "      <td>-0.7906</td>\n",
       "      <td>2</td>\n",
       "    </tr>\n",
       "    <tr>\n",
       "      <td>96</td>\n",
       "      <td>2020-09-03</td>\n",
       "      <td>-0.4019</td>\n",
       "      <td>3</td>\n",
       "    </tr>\n",
       "    <tr>\n",
       "      <td>97</td>\n",
       "      <td>2020-09-03</td>\n",
       "      <td>-0.7906</td>\n",
       "      <td>3</td>\n",
       "    </tr>\n",
       "    <tr>\n",
       "      <td>98</td>\n",
       "      <td>2020-09-02</td>\n",
       "      <td>-0.1531</td>\n",
       "      <td>2</td>\n",
       "    </tr>\n",
       "    <tr>\n",
       "      <td>99</td>\n",
       "      <td>2020-09-02</td>\n",
       "      <td>0.0000</td>\n",
       "      <td>2</td>\n",
       "    </tr>\n",
       "  </tbody>\n",
       "</table>\n",
       "<p>87 rows × 3 columns</p>\n",
       "</div>"
      ],
      "text/plain": [
       "          date  news_value  WEEKDAY\n",
       "0   2020-12-02     -0.7906        2\n",
       "2   2020-11-27      0.7906        4\n",
       "3   2020-11-27      0.9818        4\n",
       "4   2020-11-27      0.9406        4\n",
       "5   2020-11-27      0.7906        4\n",
       "..         ...         ...      ...\n",
       "95  2020-09-09     -0.7906        2\n",
       "96  2020-09-03     -0.4019        3\n",
       "97  2020-09-03     -0.7906        3\n",
       "98  2020-09-02     -0.1531        2\n",
       "99  2020-09-02      0.0000        2\n",
       "\n",
       "[87 rows x 3 columns]"
      ]
     },
     "execution_count": 686,
     "metadata": {},
     "output_type": "execute_result"
    }
   ],
   "source": [
    "SRNE_processed"
   ]
  },
  {
   "cell_type": "code",
   "execution_count": 685,
   "metadata": {},
   "outputs": [
    {
     "data": {
      "text/html": [
       "<div>\n",
       "<style scoped>\n",
       "    .dataframe tbody tr th:only-of-type {\n",
       "        vertical-align: middle;\n",
       "    }\n",
       "\n",
       "    .dataframe tbody tr th {\n",
       "        vertical-align: top;\n",
       "    }\n",
       "\n",
       "    .dataframe thead th {\n",
       "        text-align: right;\n",
       "    }\n",
       "</style>\n",
       "<table border=\"1\" class=\"dataframe\">\n",
       "  <thead>\n",
       "    <tr style=\"text-align: right;\">\n",
       "      <th></th>\n",
       "      <th>date</th>\n",
       "      <th>news_value</th>\n",
       "      <th>WEEKDAY</th>\n",
       "    </tr>\n",
       "  </thead>\n",
       "  <tbody>\n",
       "    <tr>\n",
       "      <td>0</td>\n",
       "      <td>2020-12-02</td>\n",
       "      <td>0.0000</td>\n",
       "      <td>2</td>\n",
       "    </tr>\n",
       "    <tr>\n",
       "      <td>1</td>\n",
       "      <td>2020-12-02</td>\n",
       "      <td>0.0000</td>\n",
       "      <td>2</td>\n",
       "    </tr>\n",
       "    <tr>\n",
       "      <td>2</td>\n",
       "      <td>2020-12-02</td>\n",
       "      <td>0.7603</td>\n",
       "      <td>2</td>\n",
       "    </tr>\n",
       "    <tr>\n",
       "      <td>3</td>\n",
       "      <td>2020-12-02</td>\n",
       "      <td>-0.3818</td>\n",
       "      <td>2</td>\n",
       "    </tr>\n",
       "    <tr>\n",
       "      <td>4</td>\n",
       "      <td>2020-12-02</td>\n",
       "      <td>-0.0258</td>\n",
       "      <td>2</td>\n",
       "    </tr>\n",
       "    <tr>\n",
       "      <td>...</td>\n",
       "      <td>...</td>\n",
       "      <td>...</td>\n",
       "      <td>...</td>\n",
       "    </tr>\n",
       "    <tr>\n",
       "      <td>95</td>\n",
       "      <td>2020-11-24</td>\n",
       "      <td>0.2732</td>\n",
       "      <td>1</td>\n",
       "    </tr>\n",
       "    <tr>\n",
       "      <td>96</td>\n",
       "      <td>2020-11-24</td>\n",
       "      <td>0.0000</td>\n",
       "      <td>1</td>\n",
       "    </tr>\n",
       "    <tr>\n",
       "      <td>97</td>\n",
       "      <td>2020-11-24</td>\n",
       "      <td>-0.3612</td>\n",
       "      <td>1</td>\n",
       "    </tr>\n",
       "    <tr>\n",
       "      <td>98</td>\n",
       "      <td>2020-11-24</td>\n",
       "      <td>0.4939</td>\n",
       "      <td>1</td>\n",
       "    </tr>\n",
       "    <tr>\n",
       "      <td>99</td>\n",
       "      <td>2020-11-24</td>\n",
       "      <td>0.0000</td>\n",
       "      <td>1</td>\n",
       "    </tr>\n",
       "  </tbody>\n",
       "</table>\n",
       "<p>89 rows × 3 columns</p>\n",
       "</div>"
      ],
      "text/plain": [
       "          date  news_value  WEEKDAY\n",
       "0   2020-12-02      0.0000        2\n",
       "1   2020-12-02      0.0000        2\n",
       "2   2020-12-02      0.7603        2\n",
       "3   2020-12-02     -0.3818        2\n",
       "4   2020-12-02     -0.0258        2\n",
       "..         ...         ...      ...\n",
       "95  2020-11-24      0.2732        1\n",
       "96  2020-11-24      0.0000        1\n",
       "97  2020-11-24     -0.3612        1\n",
       "98  2020-11-24      0.4939        1\n",
       "99  2020-11-24      0.0000        1\n",
       "\n",
       "[89 rows x 3 columns]"
      ]
     },
     "execution_count": 685,
     "metadata": {},
     "output_type": "execute_result"
    }
   ],
   "source": [
    "AZN_processed"
   ]
  },
  {
   "cell_type": "code",
   "execution_count": 684,
   "metadata": {},
   "outputs": [
    {
     "data": {
      "text/html": [
       "<div>\n",
       "<style scoped>\n",
       "    .dataframe tbody tr th:only-of-type {\n",
       "        vertical-align: middle;\n",
       "    }\n",
       "\n",
       "    .dataframe tbody tr th {\n",
       "        vertical-align: top;\n",
       "    }\n",
       "\n",
       "    .dataframe thead th {\n",
       "        text-align: right;\n",
       "    }\n",
       "</style>\n",
       "<table border=\"1\" class=\"dataframe\">\n",
       "  <thead>\n",
       "    <tr style=\"text-align: right;\">\n",
       "      <th></th>\n",
       "      <th>date</th>\n",
       "      <th>news_value</th>\n",
       "      <th>WEEKDAY</th>\n",
       "    </tr>\n",
       "  </thead>\n",
       "  <tbody>\n",
       "    <tr>\n",
       "      <td>0</td>\n",
       "      <td>2020-12-02</td>\n",
       "      <td>0.1027</td>\n",
       "      <td>2</td>\n",
       "    </tr>\n",
       "    <tr>\n",
       "      <td>1</td>\n",
       "      <td>2020-12-02</td>\n",
       "      <td>0.7906</td>\n",
       "      <td>2</td>\n",
       "    </tr>\n",
       "    <tr>\n",
       "      <td>2</td>\n",
       "      <td>2020-12-02</td>\n",
       "      <td>-0.2584</td>\n",
       "      <td>2</td>\n",
       "    </tr>\n",
       "    <tr>\n",
       "      <td>3</td>\n",
       "      <td>2020-12-02</td>\n",
       "      <td>0.1027</td>\n",
       "      <td>2</td>\n",
       "    </tr>\n",
       "    <tr>\n",
       "      <td>4</td>\n",
       "      <td>2020-12-02</td>\n",
       "      <td>0.0000</td>\n",
       "      <td>2</td>\n",
       "    </tr>\n",
       "    <tr>\n",
       "      <td>...</td>\n",
       "      <td>...</td>\n",
       "      <td>...</td>\n",
       "      <td>...</td>\n",
       "    </tr>\n",
       "    <tr>\n",
       "      <td>95</td>\n",
       "      <td>2020-12-01</td>\n",
       "      <td>0.6597</td>\n",
       "      <td>1</td>\n",
       "    </tr>\n",
       "    <tr>\n",
       "      <td>96</td>\n",
       "      <td>2020-12-01</td>\n",
       "      <td>0.4019</td>\n",
       "      <td>1</td>\n",
       "    </tr>\n",
       "    <tr>\n",
       "      <td>97</td>\n",
       "      <td>2020-12-01</td>\n",
       "      <td>0.6124</td>\n",
       "      <td>1</td>\n",
       "    </tr>\n",
       "    <tr>\n",
       "      <td>98</td>\n",
       "      <td>2020-12-01</td>\n",
       "      <td>0.7783</td>\n",
       "      <td>1</td>\n",
       "    </tr>\n",
       "    <tr>\n",
       "      <td>99</td>\n",
       "      <td>2020-12-01</td>\n",
       "      <td>0.0000</td>\n",
       "      <td>1</td>\n",
       "    </tr>\n",
       "  </tbody>\n",
       "</table>\n",
       "<p>100 rows × 3 columns</p>\n",
       "</div>"
      ],
      "text/plain": [
       "          date  news_value  WEEKDAY\n",
       "0   2020-12-02      0.1027        2\n",
       "1   2020-12-02      0.7906        2\n",
       "2   2020-12-02     -0.2584        2\n",
       "3   2020-12-02      0.1027        2\n",
       "4   2020-12-02      0.0000        2\n",
       "..         ...         ...      ...\n",
       "95  2020-12-01      0.6597        1\n",
       "96  2020-12-01      0.4019        1\n",
       "97  2020-12-01      0.6124        1\n",
       "98  2020-12-01      0.7783        1\n",
       "99  2020-12-01      0.0000        1\n",
       "\n",
       "[100 rows x 3 columns]"
      ]
     },
     "execution_count": 684,
     "metadata": {},
     "output_type": "execute_result"
    }
   ],
   "source": [
    "PFE_processed"
   ]
  },
  {
   "cell_type": "code",
   "execution_count": 683,
   "metadata": {},
   "outputs": [
    {
     "data": {
      "text/html": [
       "<div>\n",
       "<style scoped>\n",
       "    .dataframe tbody tr th:only-of-type {\n",
       "        vertical-align: middle;\n",
       "    }\n",
       "\n",
       "    .dataframe tbody tr th {\n",
       "        vertical-align: top;\n",
       "    }\n",
       "\n",
       "    .dataframe thead th {\n",
       "        text-align: right;\n",
       "    }\n",
       "</style>\n",
       "<table border=\"1\" class=\"dataframe\">\n",
       "  <thead>\n",
       "    <tr style=\"text-align: right;\">\n",
       "      <th></th>\n",
       "      <th>date</th>\n",
       "      <th>news_value</th>\n",
       "      <th>WEEKDAY</th>\n",
       "    </tr>\n",
       "  </thead>\n",
       "  <tbody>\n",
       "    <tr>\n",
       "      <td>0</td>\n",
       "      <td>2020-12-02</td>\n",
       "      <td>0.0000</td>\n",
       "      <td>2</td>\n",
       "    </tr>\n",
       "    <tr>\n",
       "      <td>1</td>\n",
       "      <td>2020-12-02</td>\n",
       "      <td>-0.6908</td>\n",
       "      <td>2</td>\n",
       "    </tr>\n",
       "    <tr>\n",
       "      <td>2</td>\n",
       "      <td>2020-12-02</td>\n",
       "      <td>0.6369</td>\n",
       "      <td>2</td>\n",
       "    </tr>\n",
       "    <tr>\n",
       "      <td>3</td>\n",
       "      <td>2020-12-02</td>\n",
       "      <td>-0.4939</td>\n",
       "      <td>2</td>\n",
       "    </tr>\n",
       "    <tr>\n",
       "      <td>4</td>\n",
       "      <td>2020-12-02</td>\n",
       "      <td>0.8779</td>\n",
       "      <td>2</td>\n",
       "    </tr>\n",
       "    <tr>\n",
       "      <td>...</td>\n",
       "      <td>...</td>\n",
       "      <td>...</td>\n",
       "      <td>...</td>\n",
       "    </tr>\n",
       "    <tr>\n",
       "      <td>95</td>\n",
       "      <td>2020-11-27</td>\n",
       "      <td>0.0000</td>\n",
       "      <td>4</td>\n",
       "    </tr>\n",
       "    <tr>\n",
       "      <td>96</td>\n",
       "      <td>2020-11-27</td>\n",
       "      <td>0.0000</td>\n",
       "      <td>4</td>\n",
       "    </tr>\n",
       "    <tr>\n",
       "      <td>97</td>\n",
       "      <td>2020-11-26</td>\n",
       "      <td>0.0000</td>\n",
       "      <td>3</td>\n",
       "    </tr>\n",
       "    <tr>\n",
       "      <td>98</td>\n",
       "      <td>2020-11-26</td>\n",
       "      <td>0.0000</td>\n",
       "      <td>3</td>\n",
       "    </tr>\n",
       "    <tr>\n",
       "      <td>99</td>\n",
       "      <td>2020-11-26</td>\n",
       "      <td>0.0000</td>\n",
       "      <td>3</td>\n",
       "    </tr>\n",
       "  </tbody>\n",
       "</table>\n",
       "<p>92 rows × 3 columns</p>\n",
       "</div>"
      ],
      "text/plain": [
       "          date  news_value  WEEKDAY\n",
       "0   2020-12-02      0.0000        2\n",
       "1   2020-12-02     -0.6908        2\n",
       "2   2020-12-02      0.6369        2\n",
       "3   2020-12-02     -0.4939        2\n",
       "4   2020-12-02      0.8779        2\n",
       "..         ...         ...      ...\n",
       "95  2020-11-27      0.0000        4\n",
       "96  2020-11-27      0.0000        4\n",
       "97  2020-11-26      0.0000        3\n",
       "98  2020-11-26      0.0000        3\n",
       "99  2020-11-26      0.0000        3\n",
       "\n",
       "[92 rows x 3 columns]"
      ]
     },
     "execution_count": 683,
     "metadata": {},
     "output_type": "execute_result"
    }
   ],
   "source": [
    "AAPL_processed"
   ]
  },
  {
   "cell_type": "code",
   "execution_count": 682,
   "metadata": {},
   "outputs": [
    {
     "data": {
      "text/html": [
       "<div>\n",
       "<style scoped>\n",
       "    .dataframe tbody tr th:only-of-type {\n",
       "        vertical-align: middle;\n",
       "    }\n",
       "\n",
       "    .dataframe tbody tr th {\n",
       "        vertical-align: top;\n",
       "    }\n",
       "\n",
       "    .dataframe thead th {\n",
       "        text-align: right;\n",
       "    }\n",
       "</style>\n",
       "<table border=\"1\" class=\"dataframe\">\n",
       "  <thead>\n",
       "    <tr style=\"text-align: right;\">\n",
       "      <th></th>\n",
       "      <th>date</th>\n",
       "      <th>news_value</th>\n",
       "      <th>WEEKDAY</th>\n",
       "    </tr>\n",
       "  </thead>\n",
       "  <tbody>\n",
       "    <tr>\n",
       "      <td>0</td>\n",
       "      <td>2020-12-02</td>\n",
       "      <td>0.5267</td>\n",
       "      <td>2</td>\n",
       "    </tr>\n",
       "    <tr>\n",
       "      <td>1</td>\n",
       "      <td>2020-12-02</td>\n",
       "      <td>-0.7906</td>\n",
       "      <td>2</td>\n",
       "    </tr>\n",
       "    <tr>\n",
       "      <td>2</td>\n",
       "      <td>2020-12-02</td>\n",
       "      <td>-0.7906</td>\n",
       "      <td>2</td>\n",
       "    </tr>\n",
       "    <tr>\n",
       "      <td>3</td>\n",
       "      <td>2020-12-02</td>\n",
       "      <td>0.7906</td>\n",
       "      <td>2</td>\n",
       "    </tr>\n",
       "    <tr>\n",
       "      <td>4</td>\n",
       "      <td>2020-12-02</td>\n",
       "      <td>0.4215</td>\n",
       "      <td>2</td>\n",
       "    </tr>\n",
       "    <tr>\n",
       "      <td>...</td>\n",
       "      <td>...</td>\n",
       "      <td>...</td>\n",
       "      <td>...</td>\n",
       "    </tr>\n",
       "    <tr>\n",
       "      <td>95</td>\n",
       "      <td>2020-11-18</td>\n",
       "      <td>0.0000</td>\n",
       "      <td>2</td>\n",
       "    </tr>\n",
       "    <tr>\n",
       "      <td>96</td>\n",
       "      <td>2020-11-18</td>\n",
       "      <td>-0.2584</td>\n",
       "      <td>2</td>\n",
       "    </tr>\n",
       "    <tr>\n",
       "      <td>97</td>\n",
       "      <td>2020-11-18</td>\n",
       "      <td>0.0000</td>\n",
       "      <td>2</td>\n",
       "    </tr>\n",
       "    <tr>\n",
       "      <td>98</td>\n",
       "      <td>2020-11-17</td>\n",
       "      <td>0.0000</td>\n",
       "      <td>1</td>\n",
       "    </tr>\n",
       "    <tr>\n",
       "      <td>99</td>\n",
       "      <td>2020-11-17</td>\n",
       "      <td>0.5267</td>\n",
       "      <td>1</td>\n",
       "    </tr>\n",
       "  </tbody>\n",
       "</table>\n",
       "<p>95 rows × 3 columns</p>\n",
       "</div>"
      ],
      "text/plain": [
       "          date  news_value  WEEKDAY\n",
       "0   2020-12-02      0.5267        2\n",
       "1   2020-12-02     -0.7906        2\n",
       "2   2020-12-02     -0.7906        2\n",
       "3   2020-12-02      0.7906        2\n",
       "4   2020-12-02      0.4215        2\n",
       "..         ...         ...      ...\n",
       "95  2020-11-18      0.0000        2\n",
       "96  2020-11-18     -0.2584        2\n",
       "97  2020-11-18      0.0000        2\n",
       "98  2020-11-17      0.0000        1\n",
       "99  2020-11-17      0.5267        1\n",
       "\n",
       "[95 rows x 3 columns]"
      ]
     },
     "execution_count": 682,
     "metadata": {},
     "output_type": "execute_result"
    }
   ],
   "source": [
    "NVDA_processed"
   ]
  },
  {
   "cell_type": "code",
   "execution_count": 681,
   "metadata": {},
   "outputs": [
    {
     "data": {
      "text/html": [
       "<div>\n",
       "<style scoped>\n",
       "    .dataframe tbody tr th:only-of-type {\n",
       "        vertical-align: middle;\n",
       "    }\n",
       "\n",
       "    .dataframe tbody tr th {\n",
       "        vertical-align: top;\n",
       "    }\n",
       "\n",
       "    .dataframe thead th {\n",
       "        text-align: right;\n",
       "    }\n",
       "</style>\n",
       "<table border=\"1\" class=\"dataframe\">\n",
       "  <thead>\n",
       "    <tr style=\"text-align: right;\">\n",
       "      <th></th>\n",
       "      <th>date</th>\n",
       "      <th>news_value</th>\n",
       "      <th>WEEKDAY</th>\n",
       "    </tr>\n",
       "  </thead>\n",
       "  <tbody>\n",
       "    <tr>\n",
       "      <td>0</td>\n",
       "      <td>2020-12-02</td>\n",
       "      <td>0.5267</td>\n",
       "      <td>2</td>\n",
       "    </tr>\n",
       "    <tr>\n",
       "      <td>1</td>\n",
       "      <td>2020-12-02</td>\n",
       "      <td>0.0000</td>\n",
       "      <td>2</td>\n",
       "    </tr>\n",
       "    <tr>\n",
       "      <td>2</td>\n",
       "      <td>2020-12-02</td>\n",
       "      <td>0.0000</td>\n",
       "      <td>2</td>\n",
       "    </tr>\n",
       "    <tr>\n",
       "      <td>3</td>\n",
       "      <td>2020-12-02</td>\n",
       "      <td>0.0000</td>\n",
       "      <td>2</td>\n",
       "    </tr>\n",
       "    <tr>\n",
       "      <td>4</td>\n",
       "      <td>2020-12-02</td>\n",
       "      <td>-0.6908</td>\n",
       "      <td>2</td>\n",
       "    </tr>\n",
       "    <tr>\n",
       "      <td>...</td>\n",
       "      <td>...</td>\n",
       "      <td>...</td>\n",
       "      <td>...</td>\n",
       "    </tr>\n",
       "    <tr>\n",
       "      <td>95</td>\n",
       "      <td>2020-11-26</td>\n",
       "      <td>0.5719</td>\n",
       "      <td>3</td>\n",
       "    </tr>\n",
       "    <tr>\n",
       "      <td>96</td>\n",
       "      <td>2020-11-26</td>\n",
       "      <td>0.0000</td>\n",
       "      <td>3</td>\n",
       "    </tr>\n",
       "    <tr>\n",
       "      <td>97</td>\n",
       "      <td>2020-11-25</td>\n",
       "      <td>0.8689</td>\n",
       "      <td>2</td>\n",
       "    </tr>\n",
       "    <tr>\n",
       "      <td>98</td>\n",
       "      <td>2020-11-25</td>\n",
       "      <td>0.4588</td>\n",
       "      <td>2</td>\n",
       "    </tr>\n",
       "    <tr>\n",
       "      <td>99</td>\n",
       "      <td>2020-11-25</td>\n",
       "      <td>-0.3612</td>\n",
       "      <td>2</td>\n",
       "    </tr>\n",
       "  </tbody>\n",
       "</table>\n",
       "<p>93 rows × 3 columns</p>\n",
       "</div>"
      ],
      "text/plain": [
       "          date  news_value  WEEKDAY\n",
       "0   2020-12-02      0.5267        2\n",
       "1   2020-12-02      0.0000        2\n",
       "2   2020-12-02      0.0000        2\n",
       "3   2020-12-02      0.0000        2\n",
       "4   2020-12-02     -0.6908        2\n",
       "..         ...         ...      ...\n",
       "95  2020-11-26      0.5719        3\n",
       "96  2020-11-26      0.0000        3\n",
       "97  2020-11-25      0.8689        2\n",
       "98  2020-11-25      0.4588        2\n",
       "99  2020-11-25     -0.3612        2\n",
       "\n",
       "[93 rows x 3 columns]"
      ]
     },
     "execution_count": 681,
     "metadata": {},
     "output_type": "execute_result"
    }
   ],
   "source": [
    "MSFT_processed"
   ]
  },
  {
   "cell_type": "code",
   "execution_count": 675,
   "metadata": {},
   "outputs": [
    {
     "data": {
      "text/plain": [
       "94"
      ]
     },
     "execution_count": 675,
     "metadata": {},
     "output_type": "execute_result"
    }
   ],
   "source": [
    "TSLA_processed.shape[0]"
   ]
  },
  {
   "cell_type": "code",
   "execution_count": 676,
   "metadata": {},
   "outputs": [
    {
     "data": {
      "text/plain": [
       "97"
      ]
     },
     "execution_count": 676,
     "metadata": {},
     "output_type": "execute_result"
    }
   ],
   "source": [
    "NIO_processed.shape[0]"
   ]
  },
  {
   "cell_type": "code",
   "execution_count": 677,
   "metadata": {},
   "outputs": [
    {
     "data": {
      "text/plain": [
       "70"
      ]
     },
     "execution_count": 677,
     "metadata": {},
     "output_type": "execute_result"
    }
   ],
   "source": [
    "PLTR_processed.shape[0]"
   ]
  },
  {
   "cell_type": "code",
   "execution_count": 678,
   "metadata": {},
   "outputs": [
    {
     "data": {
      "text/plain": [
       "98"
      ]
     },
     "execution_count": 678,
     "metadata": {},
     "output_type": "execute_result"
    }
   ],
   "source": [
    "FCEL_processed.shape[0]"
   ]
  },
  {
   "cell_type": "code",
   "execution_count": 679,
   "metadata": {},
   "outputs": [
    {
     "data": {
      "text/plain": [
       "100"
      ]
     },
     "execution_count": 679,
     "metadata": {},
     "output_type": "execute_result"
    }
   ],
   "source": [
    "WWR_processed.shape[0]"
   ]
  },
  {
   "cell_type": "code",
   "execution_count": 680,
   "metadata": {},
   "outputs": [
    {
     "data": {
      "text/plain": [
       "97"
      ]
     },
     "execution_count": 680,
     "metadata": {},
     "output_type": "execute_result"
    }
   ],
   "source": [
    "GEVO_processed.shape[0]"
   ]
  },
  {
   "cell_type": "code",
   "execution_count": null,
   "metadata": {},
   "outputs": [],
   "source": []
  }
 ],
 "metadata": {
  "kernelspec": {
   "display_name": "Python 3",
   "language": "python",
   "name": "python3"
  },
  "language_info": {
   "codemirror_mode": {
    "name": "ipython",
    "version": 3
   },
   "file_extension": ".py",
   "mimetype": "text/x-python",
   "name": "python",
   "nbconvert_exporter": "python",
   "pygments_lexer": "ipython3",
   "version": "3.7.4"
  }
 },
 "nbformat": 4,
 "nbformat_minor": 2
}
